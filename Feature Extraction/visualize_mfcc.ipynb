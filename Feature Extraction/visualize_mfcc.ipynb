{
 "cells": [
  {
   "cell_type": "markdown",
   "metadata": {},
   "source": [
    "# Visualize mfcc of a character"
   ]
  },
  {
   "cell_type": "code",
   "execution_count": 18,
   "metadata": {},
   "outputs": [],
   "source": [
    "import numpy as np\n",
    "import matplotlib.pyplot as plt\n",
    "import librosa\n",
    "import os"
   ]
  },
  {
   "cell_type": "code",
   "execution_count": 19,
   "metadata": {},
   "outputs": [],
   "source": [
    "import glob\n",
    "hutao_voice = glob.glob(\"D:/Nghiên cứu âm thanh/VoiceDataTraining/CN-Hutao/*.wav\")\n",
    "yae_voice = glob.glob(\"D:/Nghiên cứu âm thanh/VoiceDataTraining/CN-YaeMiko/*.wav\")\n"
   ]
  },
  {
   "cell_type": "code",
   "execution_count": 20,
   "metadata": {},
   "outputs": [
    {
     "name": "stdout",
     "output_type": "stream",
     "text": [
      "<class 'list'>\n",
      "D:/Nghiên cứu âm thanh/VoiceDataTraining/CN-Hutao\\vo_BZLQ001_4_hutao_01.wav\n",
      "574\n"
     ]
    }
   ],
   "source": [
    "print(type(hutao_voice))\n",
    "print(hutao_voice[0])\n",
    "print(len(hutao_voice))"
   ]
  },
  {
   "cell_type": "code",
   "execution_count": 29,
   "metadata": {},
   "outputs": [
    {
     "name": "stdout",
     "output_type": "stream",
     "text": [
      "2048\n",
      "4.5351473922902495e-05\n"
     ]
    },
    {
     "data": {
      "text/html": [
       "<div>\n",
       "<style scoped>\n",
       "    .dataframe tbody tr th:only-of-type {\n",
       "        vertical-align: middle;\n",
       "    }\n",
       "\n",
       "    .dataframe tbody tr th {\n",
       "        vertical-align: top;\n",
       "    }\n",
       "\n",
       "    .dataframe thead tr th {\n",
       "        text-align: left;\n",
       "    }\n",
       "</style>\n",
       "<table border=\"1\" class=\"dataframe\">\n",
       "  <thead>\n",
       "    <tr>\n",
       "      <th></th>\n",
       "      <th colspan=\"13\" halign=\"left\">0</th>\n",
       "    </tr>\n",
       "    <tr>\n",
       "      <th></th>\n",
       "      <th>0</th>\n",
       "      <th>1</th>\n",
       "      <th>2</th>\n",
       "      <th>3</th>\n",
       "      <th>4</th>\n",
       "      <th>5</th>\n",
       "      <th>6</th>\n",
       "      <th>7</th>\n",
       "      <th>8</th>\n",
       "      <th>9</th>\n",
       "      <th>10</th>\n",
       "      <th>11</th>\n",
       "      <th>12</th>\n",
       "    </tr>\n",
       "  </thead>\n",
       "  <tbody>\n",
       "    <tr>\n",
       "      <th>0</th>\n",
       "      <td>-189.591385</td>\n",
       "      <td>5.066898</td>\n",
       "      <td>-18.26512</td>\n",
       "      <td>-8.013297</td>\n",
       "      <td>-37.981533</td>\n",
       "      <td>-22.920019</td>\n",
       "      <td>-29.921919</td>\n",
       "      <td>-2.331915</td>\n",
       "      <td>-18.772831</td>\n",
       "      <td>-21.469648</td>\n",
       "      <td>-22.840551</td>\n",
       "      <td>-1.146319</td>\n",
       "      <td>-7.218185</td>\n",
       "    </tr>\n",
       "  </tbody>\n",
       "</table>\n",
       "</div>"
      ],
      "text/plain": [
       "            0                                                                 \\\n",
       "           0         1         2         3          4          5          6    \n",
       "0 -189.591385  5.066898 -18.26512 -8.013297 -37.981533 -22.920019 -29.921919   \n",
       "\n",
       "                                                                  \n",
       "         7          8          9          10        11        12  \n",
       "0 -2.331915 -18.772831 -21.469648 -22.840551 -1.146319 -7.218185  "
      ]
     },
     "execution_count": 29,
     "metadata": {},
     "output_type": "execute_result"
    }
   ],
   "source": [
    "import pandas as pd\n",
    "y, sr = librosa.load('D:/Nghiên cứu âm thanh/VoiceDataTraining/CN-Hutao/vo_BZLQ001_4_hutao_01.wav', duration=2.5,offset=0.5)\n",
    "mfcc = librosa.feature.mfcc(y=y, sr=sr, n_mfcc=13)\n",
    "mfcc_scaled = np.mean(mfcc.T,axis=0)\n",
    "mfcc_scaled = mfcc_scaled.reshape(1,-1)\n",
    "feature = mfcc_scaled\n",
    "livedf = pd.DataFrame(data=feature).stack().to_frame().T\n",
    "livedf"
   ]
  }
 ],
 "metadata": {
  "kernelspec": {
   "display_name": "Python 3",
   "language": "python",
   "name": "python3"
  },
  "language_info": {
   "codemirror_mode": {
    "name": "ipython",
    "version": 3
   },
   "file_extension": ".py",
   "mimetype": "text/x-python",
   "name": "python",
   "nbconvert_exporter": "python",
   "pygments_lexer": "ipython3",
   "version": "3.11.1"
  }
 },
 "nbformat": 4,
 "nbformat_minor": 2
}

{
 "cells": [
  {
   "cell_type": "markdown",
   "metadata": {},
   "source": [
    "# Split word to \"nguyen am\" and \"phu am\" in Vietnamese"
   ]
  },
  {
   "cell_type": "markdown",
   "metadata": {},
   "source": [
    "### Create dictionary"
   ]
  },
  {
   "cell_type": "code",
   "execution_count": 1,
   "metadata": {},
   "outputs": [
    {
     "data": {
      "text/plain": [
       "{'b': '',\n",
       " 'c': '',\n",
       " 'd': '',\n",
       " 'đ': '',\n",
       " 'g': '',\n",
       " 'h': '',\n",
       " 'k': '',\n",
       " 'l': '',\n",
       " 'm': '',\n",
       " 'n': '',\n",
       " 'p': '',\n",
       " 'q': '',\n",
       " 'r': '',\n",
       " 's': '',\n",
       " 't': '',\n",
       " 'v': '',\n",
       " 'x': '',\n",
       " 'ch': '',\n",
       " 'gh': '',\n",
       " 'gi': '',\n",
       " 'kh': '',\n",
       " 'ng': '',\n",
       " 'ngh': '',\n",
       " 'nh': '',\n",
       " 'ph': '',\n",
       " 'qu': '',\n",
       " 'th': '',\n",
       " 'tr': ''}"
      ]
     },
     "execution_count": 1,
     "metadata": {},
     "output_type": "execute_result"
    }
   ],
   "source": [
    "d_phu_am_don = {'b': '', 'c': '', 'd': '', 'đ': '', 'g': '', 'h': '', 'k': '', 'l': '', 'm': '', 'n': '', 'p': '', 'q': '', 'r': '', 's': '', 't': '', 'v': '', 'x': ''}\n",
    "d_phu_am_ghep = {'ch': '', 'gh': '', 'gi': '', 'kh': '', 'ng': '', 'ngh': '', 'nh': '', 'ph': '', 'qu': '', 'th': '', 'tr': '', 'gi': '', 'ng': '', 'ngh': '', 'nh': '', 'ph': '', 'qu': '', 'th': '', 'tr': ''}\n",
    "d_phu_am = {}\n",
    "d_phu_am.update(d_phu_am_don)\n",
    "d_phu_am.update(d_phu_am_ghep)\n",
    "d_phu_am"
   ]
  },
  {
   "cell_type": "code",
   "execution_count": 2,
   "metadata": {},
   "outputs": [
    {
     "data": {
      "text/plain": [
       "{'a': '',\n",
       " 'ă': '',\n",
       " 'â': '',\n",
       " 'e': '',\n",
       " 'ê': '',\n",
       " 'i': '',\n",
       " 'y': '',\n",
       " 'o': '',\n",
       " 'ô': '',\n",
       " 'ơ': '',\n",
       " 'u': '',\n",
       " 'ư': '',\n",
       " 'ai': '',\n",
       " 'ao': '',\n",
       " 'au': '',\n",
       " 'ay': '',\n",
       " 'ây': '',\n",
       " 'eo': '',\n",
       " 'êu': '',\n",
       " 'ia': '',\n",
       " 'iê': '',\n",
       " 'iu': '',\n",
       " 'oa': '',\n",
       " 'oă': '',\n",
       " 'oe': '',\n",
       " 'ôi': '',\n",
       " 'ơi': '',\n",
       " 'ua': '',\n",
       " 'uâ': '',\n",
       " 'uê': '',\n",
       " 'ui': '',\n",
       " 'ưi': '',\n",
       " 'uo': '',\n",
       " 'uô': '',\n",
       " 'ưu': '',\n",
       " 'uy': '',\n",
       " 'iêu': '',\n",
       " 'oai': '',\n",
       " 'oao': '',\n",
       " 'oay': '',\n",
       " 'uay': '',\n",
       " 'uôi': '',\n",
       " 'ươi': ''}"
      ]
     },
     "execution_count": 2,
     "metadata": {},
     "output_type": "execute_result"
    }
   ],
   "source": [
    "d_nguyen_am_don = {'a': '', 'ă': '', 'â': '', \n",
    "                   'e': '', 'ê': '', \n",
    "                   'i': '', 'y': '',\n",
    "                   'o': '', 'ô': '', 'ơ': '', \n",
    "                   'u': '', 'ư': ''}\n",
    "d_nguyen_am_doi = {'ai': '', 'ao': '', 'au': '', 'ay': '', 'ây': '', \n",
    "                   'eo': '', 'êu': '', \n",
    "                   'ia': '', 'iê': '', 'iu': '', \n",
    "                   'oa': '', 'oă': '', 'oe': '', 'ôi': '', 'ơi': '', \n",
    "                   'ua': '', 'uâ': '', 'uê': '', 'ui': '', 'ưi': '', 'uo': '', 'uô': '', 'ưu': '', 'uy': ''}\n",
    "d_nguyen_am_ba  = {'iêu': '', \n",
    "                   'oai': '', 'oao': '', 'oay': '', \n",
    "                   'uay': '', 'uôi': '', 'ươi': ''}\n",
    "d_nguyen_am = {}\n",
    "d_nguyen_am.update(d_nguyen_am_don)\n",
    "d_nguyen_am.update(d_nguyen_am_doi)\n",
    "d_nguyen_am.update(d_nguyen_am_ba)\n",
    "d_nguyen_am\n"
   ]
  },
  {
   "cell_type": "code",
   "execution_count": 3,
   "metadata": {},
   "outputs": [],
   "source": [
    "def find_phu_am(word):\n",
    "    if len(word) == 1:\n",
    "        print(\"Tu don 1 chu cai\")\n",
    "        return\n",
    "    if word[0] not in d_phu_am:\n",
    "        print(f\"Tu khong bat dau bang phu am\")\n",
    "        return 0\n",
    "    elif word[0:3] in d_phu_am:\n",
    "        print(f\"Tu bat dau bang phu am ghep {word[0:3]}\")\n",
    "        return 3\n",
    "    elif word[0:2] in d_phu_am or word[0:3] in d_phu_am:\n",
    "        print(f\"Tu bat dau bang phu am ghep {word[0:2]}\")\n",
    "        return 2\n",
    "    elif word[0] in d_phu_am_don:\n",
    "        print(f\"Tu bat dau bang phu am don  {word[0]}\")\n",
    "        return 1\n",
    "\n",
    "def find_nguyen_am(word, start):\n",
    "    if word[start:] in d_nguyen_am:\n",
    "        print(f\"Nguyen am: {word[start:]}\")\n",
    "\n",
    "def splitWord(word):\n",
    "    start = find_phu_am(word)\n",
    "    find_nguyen_am(word, start)"
   ]
  },
  {
   "cell_type": "markdown",
   "metadata": {},
   "source": [
    "### Test replace \".\", \",\""
   ]
  },
  {
   "cell_type": "code",
   "execution_count": 9,
   "metadata": {},
   "outputs": [],
   "source": [
    "s = \"Hôm nay, ngày 5 tháng 2 năm 2024, là một ngày đẹp trời ở Hà Nội, Việt Nam. Mặt trời chiếu rạng rỡ, bầu trời trong xanh, và những con chim hót líu lo trên cành cây.\""
   ]
  },
  {
   "cell_type": "code",
   "execution_count": 11,
   "metadata": {},
   "outputs": [
    {
     "data": {
      "text/plain": [
       "'Hôm nay ngày 5 tháng 2 năm 2024 là một ngày đẹp trời ở Hà Nội Việt Nam Mặt trời chiếu rạng rỡ bầu trời trong xanh và những con chim hót líu lo trên cành cây'"
      ]
     },
     "execution_count": 11,
     "metadata": {},
     "output_type": "execute_result"
    }
   ],
   "source": [
    "s = s.replace(',', '')\n",
    "s = s.replace('.', '')\n",
    "s"
   ]
  },
  {
   "cell_type": "code",
   "execution_count": 12,
   "metadata": {},
   "outputs": [],
   "source": [
    "s = s.split()"
   ]
  }
 ],
 "metadata": {
  "kernelspec": {
   "display_name": "Python 3",
   "language": "python",
   "name": "python3"
  },
  "language_info": {
   "codemirror_mode": {
    "name": "ipython",
    "version": 3
   },
   "file_extension": ".py",
   "mimetype": "text/x-python",
   "name": "python",
   "nbconvert_exporter": "python",
   "pygments_lexer": "ipython3",
   "version": "3.11.1"
  }
 },
 "nbformat": 4,
 "nbformat_minor": 2
}

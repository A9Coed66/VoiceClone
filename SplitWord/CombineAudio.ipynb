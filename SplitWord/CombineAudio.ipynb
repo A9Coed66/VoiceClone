{
 "cells": [
  {
   "cell_type": "code",
   "execution_count": 11,
   "metadata": {},
   "outputs": [],
   "source": [
    "import wave\n",
    "import glob"
   ]
  },
  {
   "cell_type": "code",
   "execution_count": 12,
   "metadata": {},
   "outputs": [],
   "source": [
    "PATH = 'C:\\\\Users\\\\admin\\\\Documents\\\\Audacity'"
   ]
  },
  {
   "cell_type": "code",
   "execution_count": 13,
   "metadata": {},
   "outputs": [],
   "source": [
    "ls = glob.glob(PATH + '\\\\*.wav')"
   ]
  },
  {
   "cell_type": "code",
   "execution_count": 16,
   "metadata": {},
   "outputs": [],
   "source": [
    "data= []\n",
    "outfile = \"sounds.wav\"\n",
    "for infile in ls:\n",
    "    w = wave.open(infile, 'rb')\n",
    "    data.append( [w.getparams(), w.readframes(w.getnframes())] )\n",
    "    w.close()\n",
    "    \n",
    "output = wave.open(outfile, 'wb')\n",
    "output.setparams(data[0][0])\n",
    "for i in range(len(data)):\n",
    "    output.writeframes(data[i][1])\n",
    "output.close()"
   ]
  }
 ],
 "metadata": {
  "kernelspec": {
   "display_name": "Python 3",
   "language": "python",
   "name": "python3"
  },
  "language_info": {
   "codemirror_mode": {
    "name": "ipython",
    "version": 3
   },
   "file_extension": ".py",
   "mimetype": "text/x-python",
   "name": "python",
   "nbconvert_exporter": "python",
   "pygments_lexer": "ipython3",
   "version": "3.11.1"
  }
 },
 "nbformat": 4,
 "nbformat_minor": 2
}

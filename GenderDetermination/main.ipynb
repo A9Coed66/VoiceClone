{
 "cells": [
  {
   "cell_type": "code",
   "execution_count": null,
   "metadata": {},
   "outputs": [],
   "source": [
    "# Dự đoán giới tính của người nói thông qua dữ liệu về âm thanh"
   ]
  },
  {
   "cell_type": "code",
   "execution_count": 1,
   "metadata": {},
   "outputs": [],
   "source": [
    "# ý tưởng: frame_length = np.hamming() = 2048 frame\n",
    "# nhân từng giá trị với np.hamming, từ đó tính ra tín hiệu năng lượng.\n",
    "# từ tập dữ liệu của noise train, ta tính ra năng lượng của độ ồn trung bình, só sánh với năng lunwjg, nếu lớn hơn, láy, nhỏ hơn cho thành NaN\n",
    "\n",
    "# đánh giá đoạn nói có ồn sẽ phức tạp nên trước mắt ta sẽ lấy những đoạn nói không có ồn để train"
   ]
  }
 ],
 "metadata": {
  "kernelspec": {
   "display_name": "Python 3",
   "language": "python",
   "name": "python3"
  },
  "language_info": {
   "codemirror_mode": {
    "name": "ipython",
    "version": 3
   },
   "file_extension": ".py",
   "mimetype": "text/x-python",
   "name": "python",
   "nbconvert_exporter": "python",
   "pygments_lexer": "ipython3",
   "version": "3.11.1"
  }
 },
 "nbformat": 4,
 "nbformat_minor": 2
}
